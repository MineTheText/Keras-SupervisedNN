{
 "cells": [
  {
   "cell_type": "markdown",
   "metadata": {},
   "source": [
    "This code classifies the IMDB movie reviews into Positive and Negative \n",
    "<br> This is a supervised learning algorithm where the reviews are already labeled as positive and negative \n",
    "<br><b> There are three parts to this program </b>\n",
    "<br>Part 1: Extract the data \n",
    "<br>Part 2: Data Preparation (One-Hot Representation) \n",
    "<br>Part 3: Neural Network code "
   ]
  },
  {
   "cell_type": "code",
   "execution_count": 1,
   "metadata": {},
   "outputs": [
    {
     "name": "stderr",
     "output_type": "stream",
     "text": [
      "Using TensorFlow backend.\n",
      "c:\\users\\vmt907\\documents\\mynncode\\lib\\site-packages\\tensorflow\\python\\framework\\dtypes.py:516: FutureWarning: Passing (type, 1) or '1type' as a synonym of type is deprecated; in a future version of numpy, it will be understood as (type, (1,)) / '(1,)type'.\n",
      "  _np_qint8 = np.dtype([(\"qint8\", np.int8, 1)])\n",
      "c:\\users\\vmt907\\documents\\mynncode\\lib\\site-packages\\tensorflow\\python\\framework\\dtypes.py:517: FutureWarning: Passing (type, 1) or '1type' as a synonym of type is deprecated; in a future version of numpy, it will be understood as (type, (1,)) / '(1,)type'.\n",
      "  _np_quint8 = np.dtype([(\"quint8\", np.uint8, 1)])\n",
      "c:\\users\\vmt907\\documents\\mynncode\\lib\\site-packages\\tensorflow\\python\\framework\\dtypes.py:518: FutureWarning: Passing (type, 1) or '1type' as a synonym of type is deprecated; in a future version of numpy, it will be understood as (type, (1,)) / '(1,)type'.\n",
      "  _np_qint16 = np.dtype([(\"qint16\", np.int16, 1)])\n",
      "c:\\users\\vmt907\\documents\\mynncode\\lib\\site-packages\\tensorflow\\python\\framework\\dtypes.py:519: FutureWarning: Passing (type, 1) or '1type' as a synonym of type is deprecated; in a future version of numpy, it will be understood as (type, (1,)) / '(1,)type'.\n",
      "  _np_quint16 = np.dtype([(\"quint16\", np.uint16, 1)])\n",
      "c:\\users\\vmt907\\documents\\mynncode\\lib\\site-packages\\tensorflow\\python\\framework\\dtypes.py:520: FutureWarning: Passing (type, 1) or '1type' as a synonym of type is deprecated; in a future version of numpy, it will be understood as (type, (1,)) / '(1,)type'.\n",
      "  _np_qint32 = np.dtype([(\"qint32\", np.int32, 1)])\n",
      "c:\\users\\vmt907\\documents\\mynncode\\lib\\site-packages\\tensorflow\\python\\framework\\dtypes.py:525: FutureWarning: Passing (type, 1) or '1type' as a synonym of type is deprecated; in a future version of numpy, it will be understood as (type, (1,)) / '(1,)type'.\n",
      "  np_resource = np.dtype([(\"resource\", np.ubyte, 1)])\n",
      "c:\\users\\vmt907\\documents\\mynncode\\lib\\site-packages\\tensorboard\\compat\\tensorflow_stub\\dtypes.py:541: FutureWarning: Passing (type, 1) or '1type' as a synonym of type is deprecated; in a future version of numpy, it will be understood as (type, (1,)) / '(1,)type'.\n",
      "  _np_qint8 = np.dtype([(\"qint8\", np.int8, 1)])\n",
      "c:\\users\\vmt907\\documents\\mynncode\\lib\\site-packages\\tensorboard\\compat\\tensorflow_stub\\dtypes.py:542: FutureWarning: Passing (type, 1) or '1type' as a synonym of type is deprecated; in a future version of numpy, it will be understood as (type, (1,)) / '(1,)type'.\n",
      "  _np_quint8 = np.dtype([(\"quint8\", np.uint8, 1)])\n",
      "c:\\users\\vmt907\\documents\\mynncode\\lib\\site-packages\\tensorboard\\compat\\tensorflow_stub\\dtypes.py:543: FutureWarning: Passing (type, 1) or '1type' as a synonym of type is deprecated; in a future version of numpy, it will be understood as (type, (1,)) / '(1,)type'.\n",
      "  _np_qint16 = np.dtype([(\"qint16\", np.int16, 1)])\n",
      "c:\\users\\vmt907\\documents\\mynncode\\lib\\site-packages\\tensorboard\\compat\\tensorflow_stub\\dtypes.py:544: FutureWarning: Passing (type, 1) or '1type' as a synonym of type is deprecated; in a future version of numpy, it will be understood as (type, (1,)) / '(1,)type'.\n",
      "  _np_quint16 = np.dtype([(\"quint16\", np.uint16, 1)])\n",
      "c:\\users\\vmt907\\documents\\mynncode\\lib\\site-packages\\tensorboard\\compat\\tensorflow_stub\\dtypes.py:545: FutureWarning: Passing (type, 1) or '1type' as a synonym of type is deprecated; in a future version of numpy, it will be understood as (type, (1,)) / '(1,)type'.\n",
      "  _np_qint32 = np.dtype([(\"qint32\", np.int32, 1)])\n",
      "c:\\users\\vmt907\\documents\\mynncode\\lib\\site-packages\\tensorboard\\compat\\tensorflow_stub\\dtypes.py:550: FutureWarning: Passing (type, 1) or '1type' as a synonym of type is deprecated; in a future version of numpy, it will be understood as (type, (1,)) / '(1,)type'.\n",
      "  np_resource = np.dtype([(\"resource\", np.ubyte, 1)])\n"
     ]
    }
   ],
   "source": [
    "from keras.datasets import imdb \n",
    "(train_data, train_labels), (test_data, test_labels) = imdb.load_data(num_words=10000)"
   ]
  },
  {
   "cell_type": "code",
   "execution_count": 2,
   "metadata": {},
   "outputs": [
    {
     "data": {
      "text/plain": [
       "(25000, 25000)"
      ]
     },
     "execution_count": 2,
     "metadata": {},
     "output_type": "execute_result"
    }
   ],
   "source": [
    "#  (train_data, train_label) --> train_data is a list of word indexes with each word given a number for the word in the entire corpus. \n",
    "# display sample 11th reviews from train data list \n",
    "train_data[11], train_labels[11]\n",
    "train_data.size, test_data.size"
   ]
  },
  {
   "cell_type": "code",
   "execution_count": 3,
   "metadata": {},
   "outputs": [
    {
     "data": {
      "text/plain": [
       "\"? when i rented this movie i had very low expectations but when i saw it i realized that the movie was less a lot less than what i expected the actors were bad the doctor's wife was one of the worst the story was so stupid it could work for a disney movie except for the murders but this one is not a comedy it is a laughable masterpiece of stupidity the title is well chosen except for one thing they could add stupid movie after dead husbands i give it 0 and a half out of 5\""
      ]
     },
     "execution_count": 3,
     "metadata": {},
     "output_type": "execute_result"
    }
   ],
   "source": [
    "# The sentence can be decoded to english text based on get features \n",
    "word_index = imdb.get_word_index()\n",
    "reverse_word_index = dict(\n",
    "[(value, key) for (key, value) in word_index.items()])\n",
    "decoded_review = ' '.join([reverse_word_index.get(i - 3, '?') for i in train_data[11]])\n",
    "decoded_review"
   ]
  },
  {
   "cell_type": "code",
   "execution_count": 4,
   "metadata": {},
   "outputs": [],
   "source": [
    "# Data Preparation Steps \n",
    "import numpy as np \n",
    "def vectorize_sequences(sequences, dimension=10000):\n",
    "    # Initialize the record with all zeros. Later for each word position replace it with a 1 and \n",
    "    # leave it zero for words not present in the sentence \n",
    "    results = np.zeros((len(sequences), dimension))\n",
    "    for i, sequence in enumerate(sequences):\n",
    "        results[i, sequence] = 1.\n",
    "    return results\n",
    "x_train = vectorize_sequences(train_data)\n",
    "x_test = vectorize_sequences(test_data)"
   ]
  },
  {
   "cell_type": "code",
   "execution_count": 5,
   "metadata": {},
   "outputs": [],
   "source": [
    "# Convert labels as numeric values \n",
    "y_train = np.asarray(train_labels).astype('float32')\n",
    "y_test = np.asarray(test_labels).astype('float32')"
   ]
  },
  {
   "cell_type": "markdown",
   "metadata": {},
   "source": [
    "<b>Part 3:</b> Running Neural Networks "
   ]
  },
  {
   "cell_type": "code",
   "execution_count": 6,
   "metadata": {},
   "outputs": [
    {
     "name": "stdout",
     "output_type": "stream",
     "text": [
      "WARNING:tensorflow:From c:\\users\\vmt907\\documents\\mynncode\\lib\\site-packages\\keras\\backend\\tensorflow_backend.py:66: The name tf.get_default_graph is deprecated. Please use tf.compat.v1.get_default_graph instead.\n",
      "\n",
      "WARNING:tensorflow:From c:\\users\\vmt907\\documents\\mynncode\\lib\\site-packages\\keras\\backend\\tensorflow_backend.py:541: The name tf.placeholder is deprecated. Please use tf.compat.v1.placeholder instead.\n",
      "\n",
      "WARNING:tensorflow:From c:\\users\\vmt907\\documents\\mynncode\\lib\\site-packages\\keras\\backend\\tensorflow_backend.py:4432: The name tf.random_uniform is deprecated. Please use tf.random.uniform instead.\n",
      "\n",
      "WARNING:tensorflow:From c:\\users\\vmt907\\documents\\mynncode\\lib\\site-packages\\keras\\optimizers.py:793: The name tf.train.Optimizer is deprecated. Please use tf.compat.v1.train.Optimizer instead.\n",
      "\n",
      "WARNING:tensorflow:From c:\\users\\vmt907\\documents\\mynncode\\lib\\site-packages\\keras\\backend\\tensorflow_backend.py:3657: The name tf.log is deprecated. Please use tf.math.log instead.\n",
      "\n",
      "WARNING:tensorflow:From c:\\users\\vmt907\\documents\\mynncode\\lib\\site-packages\\tensorflow\\python\\ops\\nn_impl.py:180: add_dispatch_support.<locals>.wrapper (from tensorflow.python.ops.array_ops) is deprecated and will be removed in a future version.\n",
      "Instructions for updating:\n",
      "Use tf.where in 2.0, which has the same broadcast rule as np.where\n",
      "WARNING:tensorflow:From c:\\users\\vmt907\\documents\\mynncode\\lib\\site-packages\\keras\\backend\\tensorflow_backend.py:1033: The name tf.assign_add is deprecated. Please use tf.compat.v1.assign_add instead.\n",
      "\n",
      "Train on 15000 samples, validate on 10000 samples\n",
      "Epoch 1/20\n",
      "15000/15000 [==============================] - 9s 602us/step - loss: 0.4998 - acc: 0.7843 - val_loss: 0.3634 - val_acc: 0.8744\n",
      "Epoch 2/20\n",
      "15000/15000 [==============================] - 4s 282us/step - loss: 0.2915 - acc: 0.9020 - val_loss: 0.3082 - val_acc: 0.8802\n",
      "Epoch 3/20\n",
      "15000/15000 [==============================] - 4s 282us/step - loss: 0.2104 - acc: 0.9308 - val_loss: 0.2743 - val_acc: 0.8920\n",
      "Epoch 4/20\n",
      "15000/15000 [==============================] - 4s 283us/step - loss: 0.1690 - acc: 0.9415 - val_loss: 0.2809 - val_acc: 0.8857\n",
      "Epoch 5/20\n",
      "15000/15000 [==============================] - 4s 281us/step - loss: 0.1354 - acc: 0.9551 - val_loss: 0.2903 - val_acc: 0.8863\n",
      "Epoch 6/20\n",
      "15000/15000 [==============================] - 4s 289us/step - loss: 0.1106 - acc: 0.9661 - val_loss: 0.3274 - val_acc: 0.8786\n",
      "Epoch 7/20\n",
      "15000/15000 [==============================] - 4s 281us/step - loss: 0.0918 - acc: 0.9719 - val_loss: 0.3379 - val_acc: 0.8756\n",
      "Epoch 8/20\n",
      "15000/15000 [==============================] - 4s 290us/step - loss: 0.0734 - acc: 0.9793 - val_loss: 0.3766 - val_acc: 0.8757\n",
      "Epoch 9/20\n",
      "15000/15000 [==============================] - 4s 266us/step - loss: 0.0619 - acc: 0.9831 - val_loss: 0.3646 - val_acc: 0.8788\n",
      "Epoch 10/20\n",
      "15000/15000 [==============================] - 4s 282us/step - loss: 0.0482 - acc: 0.9885 - val_loss: 0.3936 - val_acc: 0.8813\n",
      "Epoch 11/20\n",
      "15000/15000 [==============================] - 4s 279us/step - loss: 0.0402 - acc: 0.9899 - val_loss: 0.4474 - val_acc: 0.8683\n",
      "Epoch 12/20\n",
      "15000/15000 [==============================] - 4s 280us/step - loss: 0.0292 - acc: 0.9949 - val_loss: 0.4525 - val_acc: 0.8757\n",
      "Epoch 13/20\n",
      "15000/15000 [==============================] - 4s 282us/step - loss: 0.0277 - acc: 0.9935 - val_loss: 0.4829 - val_acc: 0.8741\n",
      "Epoch 14/20\n",
      "15000/15000 [==============================] - 4s 283us/step - loss: 0.0205 - acc: 0.9962 - val_loss: 0.5142 - val_acc: 0.8724\n",
      "Epoch 15/20\n",
      "15000/15000 [==============================] - 4s 286us/step - loss: 0.0141 - acc: 0.9983 - val_loss: 0.5526 - val_acc: 0.8719\n",
      "Epoch 16/20\n",
      "15000/15000 [==============================] - 4s 283us/step - loss: 0.0116 - acc: 0.9986 - val_loss: 0.5791 - val_acc: 0.8718\n",
      "Epoch 17/20\n",
      "15000/15000 [==============================] - 4s 282us/step - loss: 0.0082 - acc: 0.9990 - val_loss: 0.6075 - val_acc: 0.8692\n",
      "Epoch 18/20\n",
      "15000/15000 [==============================] - 4s 279us/step - loss: 0.0086 - acc: 0.9985 - val_loss: 0.6425 - val_acc: 0.8687\n",
      "Epoch 19/20\n",
      "15000/15000 [==============================] - 4s 280us/step - loss: 0.0033 - acc: 0.9999 - val_loss: 0.6679 - val_acc: 0.8681\n",
      "Epoch 20/20\n",
      "15000/15000 [==============================] - 4s 285us/step - loss: 0.0069 - acc: 0.9985 - val_loss: 0.7011 - val_acc: 0.8660\n"
     ]
    }
   ],
   "source": [
    "from keras import models \n",
    "from keras import layers \n",
    "\n",
    "model = models.Sequential() \n",
    "model.add(layers.Dense(20, activation='relu', input_shape=(10000,)))\n",
    "model.add(layers.Dense(20, activation='relu'))\n",
    "model.add(layers.Dense(1, activation='sigmoid'))\n",
    "\n",
    "from keras import optimizers\n",
    "model.compile(optimizer=optimizers.RMSprop(lr=0.001), \n",
    "             loss='binary_crossentropy', \n",
    "             metrics=['accuracy'])\n",
    "\n",
    "# Setting a validation set aside \n",
    "xVal = x_train[:10000]\n",
    "remainingXTrain = x_train[10000:]\n",
    "\n",
    "yVal = y_train[:10000]\n",
    "remainingYTrain = y_train[10000:]\n",
    "\n",
    "history = model.fit(remainingXTrain,\n",
    "                    remainingYTrain,\n",
    "                    epochs=20,\n",
    "                    batch_size=512,\n",
    "                    validation_data=(xVal, yVal))\n",
    "history_dict = history.history\n",
    "\n"
   ]
  },
  {
   "cell_type": "markdown",
   "metadata": {},
   "source": [
    "<b>Part 4:</b> Plotting the Training and Validation loss results "
   ]
  },
  {
   "cell_type": "code",
   "execution_count": 10,
   "metadata": {},
   "outputs": [
    {
     "data": {
      "image/png": "[encoded data removed]",
      "text/plain": [
       "<Figure size 432x288 with 1 Axes>"
      ]
     },
     "metadata": {
      "needs_background": "light"
     },
     "output_type": "display_data"
    }
   ],
   "source": [
    "import matplotlib.pyplot as plt\n",
    "# Capture the accuracy and both the training loss & validation loss at each epoch into a history_dict \n",
    "history_dict = history.history\n",
    "loss_values = history_dict['loss']\n",
    "val_loss_values = history_dict['val_loss']\n",
    "acc = history_dict['acc']\n",
    "epochs = range(1, len(acc) + 1)\n",
    "plt.plot(epochs, loss_values, 'bo', label='Training loss')\n",
    "plt.plot(epochs, val_loss_values, 'b', label='Validation loss')\n",
    "plt.title('Training and validation loss')\n",
    "plt.xlabel('Epochs')\n",
    "plt.ylabel('Loss')\n",
    "plt.legend()\n",
    "plt.show()"
   ]
  },
  {
   "cell_type": "markdown",
   "metadata": {},
   "source": [
    "<b>Part 5:</b> Plotting the Training and Validation accuracy results "
   ]
  },
  {
   "cell_type": "code",
   "execution_count": 15,
   "metadata": {},
   "outputs": [
    {
     "data": {
      "image/png": "[encoded data removed]",
      "text/plain": [
       "<Figure size 432x288 with 1 Axes>"
      ]
     },
     "metadata": {
      "needs_background": "light"
     },
     "output_type": "display_data"
    }
   ],
   "source": [
    "plt.clf()\n",
    "acc_values = history_dict['acc']\n",
    "val_acc_values = history_dict['val_acc']\n",
    "plt.plot(epochs, acc_values, 'bo', label='Training acc')\n",
    "plt.plot(epochs, val_acc_values, 'b', label='Validation acc')\n",
    "plt.title('Training and validation accuracy')\n",
    "plt.xlabel('Epochs')\n",
    "plt.ylabel('Loss')\n",
    "plt.legend()\n",
    "plt.show()"
   ]
  },
  {
   "cell_type": "markdown",
   "metadata": {},
   "source": [
    "# relu activation layers can be changed and retraining after a certain epochs are couple of options to get better results "
   ]
  }
 ],
 "metadata": {
  "kernelspec": {
   "display_name": "Python 3",
   "language": "python",
   "name": "python3"
  },
  "language_info": {
   "codemirror_mode": {
    "name": "ipython",
    "version": 3
   },
   "file_extension": ".py",
   "mimetype": "text/x-python",
   "name": "python",
   "nbconvert_exporter": "python",
   "pygments_lexer": "ipython3",
   "version": "3.5.0rc4"
  }
 },
 "nbformat": 4,
 "nbformat_minor": 2
}
