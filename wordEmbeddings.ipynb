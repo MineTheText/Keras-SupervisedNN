{
 "cells": [
  {
   "cell_type": "markdown",
   "metadata": {},
   "source": [
    "### IMDB Data for use with an Embedding layer "
   ]
  },
  {
   "cell_type": "code",
   "execution_count": 2,
   "metadata": {},
   "outputs": [],
   "source": [
    "# Import imdb dataset and preprocessing module to be used for processing data in the format required for Neural Networks \n",
    "# Examples of preprocessing includes 1) padding extra zeros at the end \n",
    "# \n",
    "from keras.datasets import imdb \n",
    "from keras import preprocessing \n",
    "\n",
    "max_features = 10000 \n",
    "maxlen = 20 \n",
    "\n",
    "(x_train, y_train), (x_test, y_test) = imdb.load_data(num_words=max_features)\n",
    "x_train = preprocessing.sequence.pad_sequences(x_train, maxlen=maxlen)\n",
    "x_test = preprocessing.sequence.pad_sequences(x_test, maxlen=maxlen)"
   ]
  },
  {
   "cell_type": "code",
   "execution_count": 5,
   "metadata": {},
   "outputs": [
    {
     "name": "stdout",
     "output_type": "stream",
     "text": [
      "Model: \"sequential_3\"\n",
      "_________________________________________________________________\n",
      "Layer (type)                 Output Shape              Param #   \n",
      "=================================================================\n",
      "embedding_2 (Embedding)      (None, 20, 8)             80000     \n",
      "_________________________________________________________________\n",
      "flatten_2 (Flatten)          (None, 160)               0         \n",
      "_________________________________________________________________\n",
      "dense_2 (Dense)              (None, 1)                 161       \n",
      "=================================================================\n",
      "Total params: 80,161\n",
      "Trainable params: 80,161\n",
      "Non-trainable params: 0\n",
      "_________________________________________________________________\n",
      "WARNING:tensorflow:From c:\\users\\vmt907\\documents\\mynncode\\lib\\site-packages\\keras\\backend\\tensorflow_backend.py:1033: The name tf.assign_add is deprecated. Please use tf.compat.v1.assign_add instead.\n",
      "\n",
      "Train on 20000 samples, validate on 5000 samples\n",
      "Epoch 1/10\n",
      "20000/20000 [==============================] - 3s 173us/step - loss: 0.6705 - acc: 0.6195 - val_loss: 0.6197 - val_acc: 0.6962\n",
      "Epoch 2/10\n",
      "20000/20000 [==============================] - 2s 101us/step - loss: 0.5419 - acc: 0.7520 - val_loss: 0.5259 - val_acc: 0.7270\n",
      "Epoch 3/10\n",
      "20000/20000 [==============================] - 2s 105us/step - loss: 0.4616 - acc: 0.7875 - val_loss: 0.4995 - val_acc: 0.7446\n",
      "Epoch 4/10\n",
      "20000/20000 [==============================] - 2s 102us/step - loss: 0.4225 - acc: 0.8066 - val_loss: 0.4940 - val_acc: 0.7542\n",
      "Epoch 5/10\n",
      "20000/20000 [==============================] - 2s 101us/step - loss: 0.3961 - acc: 0.8237 - val_loss: 0.4940 - val_acc: 0.7572\n",
      "Epoch 6/10\n",
      "20000/20000 [==============================] - 2s 102us/step - loss: 0.3742 - acc: 0.8351 - val_loss: 0.4974 - val_acc: 0.7574\n",
      "Epoch 7/10\n",
      "20000/20000 [==============================] - 2s 103us/step - loss: 0.3550 - acc: 0.8451 - val_loss: 0.5031 - val_acc: 0.7566\n",
      "Epoch 8/10\n",
      "20000/20000 [==============================] - 2s 101us/step - loss: 0.3369 - acc: 0.8574 - val_loss: 0.5101 - val_acc: 0.7518\n",
      "Epoch 9/10\n",
      "20000/20000 [==============================] - 2s 101us/step - loss: 0.3193 - acc: 0.8672 - val_loss: 0.5173 - val_acc: 0.7496\n",
      "Epoch 10/10\n",
      "20000/20000 [==============================] - 2s 101us/step - loss: 0.3027 - acc: 0.8756 - val_loss: 0.5239 - val_acc: 0.7442\n"
     ]
    }
   ],
   "source": [
    "# Using an Embedding layer and classifier on the IMDB data \n",
    "\n",
    "from keras.layers import Embedding \n",
    "from keras.models import Sequential \n",
    "from keras.layers import Flatten, Dense \n",
    "\n",
    "model = Sequential()\n",
    "model.add(Embedding(10000,8, input_length=maxlen))\n",
    "model.add(Flatten()) # Flattens a 3D tensor of embeddings into a 2D tensor of share (Samples, maxlen *8)\n",
    "model.add(Dense(1, activation='sigmoid'))\n",
    "model.compile(optimizer='rmsprop', loss='binary_crossentropy', metrics=['acc'])\n",
    "model.summary()\n",
    "history = model.fit(x_train, y_train, \n",
    "                   epochs=10, \n",
    "                   batch_size=32, \n",
    "                   validation_split=0.2)"
   ]
  },
  {
   "cell_type": "code",
   "execution_count": 33,
   "metadata": {},
   "outputs": [
    {
     "name": "stdout",
     "output_type": "stream",
     "text": [
      "5598 5598\n"
     ]
    }
   ],
   "source": [
    "# This function reads a Excel file and prepares data in the format: \n",
    "# \n",
    "import os, xlrd, re \n",
    "import nltk\n",
    "from nltk.tokenize import sent_tokenize\n",
    "def preprocessText(text, row):\n",
    "    text = re.sub(r'[?|$|.|!\"(-),]',r'',text)\n",
    "    tokens = re.split(r'[`\\-=~!@#$%^&*()_\\[\\]{};\\'\\\\:\"|<,/<>?\\s]', text) \n",
    "    #tokens = text.split()\n",
    "    features = []\n",
    "    #for text in sent_tokenize(text): \n",
    "    for word in tokens:\n",
    "        if word.lower() not in stop_words and len(word) > 2:\n",
    "            features.append(word.lower())\n",
    "    features = ' '.join(features)\n",
    "    return features\n",
    "\n",
    "def readReviews(fileName):\n",
    "    book = xlrd.open_workbook(fileName)\n",
    "    sheet = book.sheet_by_index(2) \n",
    "    texts = []\n",
    "    labels = []\n",
    "    yesComparisons = 0 \n",
    "    nonComparisons = 0 \n",
    "    for row in range(1,sheet.nrows):\n",
    "        comparisonType = int(sheet.row_values(row)[12])\n",
    "        reviewText = sheet.row_values(row)[1]\n",
    "        if type(reviewText) == str: \n",
    "            pass \n",
    "        else: \n",
    "            continue \n",
    "        if comparisonType == 0 and len(reviewText) > 100: \n",
    "            nonComparisons += 1 \n",
    "            if nonComparisons < 3000: \n",
    "                text = preprocessText(reviewText, row)\n",
    "                texts.append(text)\n",
    "                labels.append(comparisonType)\n",
    "        if comparisonType == 1 and len(reviewText) > 100: \n",
    "            yesComparisons += 1 \n",
    "            if yesComparisons < 2600: \n",
    "                text = preprocessText(reviewText, row)\n",
    "                texts.append(text)\n",
    "                labels.append(comparisonType)\n",
    "        if yesComparisons > 2900 and nonComparisons > 2599: \n",
    "            break \n",
    "    return texts, labels \n",
    "global stop_words \n",
    "stop_words = nltk.corpus.stopwords.words('english')\n",
    "fileName = os.getcwd() + \"\\\\Input\\\\labelledReviews.xlsx\"\n",
    "texts, labels = readReviews(fileName)\n",
    "print(len(texts), len(labels))"
   ]
  },
  {
   "cell_type": "code",
   "execution_count": 34,
   "metadata": {},
   "outputs": [
    {
     "name": "stdout",
     "output_type": "stream",
     "text": [
      "Found 11832 unique tokens.\n",
      "shape of data tensor:  (5598, 100)\n",
      "shape of label tensor:  (5598,)\n"
     ]
    }
   ],
   "source": [
    "from keras.preprocessing.text import Tokenizer \n",
    "from keras.preprocessing.sequence import pad_sequences \n",
    "import numpy as np \n",
    "\n",
    "maxlen = 100 \n",
    "training_samples = 200 \n",
    "validation_samples = 2000 \n",
    "max_words = 10000\n",
    "\n",
    "tokenizer = Tokenizer(num_words=max_words)\n",
    "tokenizer.fit_on_texts(texts)\n",
    "sequences = tokenizer.texts_to_sequences(texts)\n",
    "word_index = tokenizer.word_index \n",
    "print('Found %s unique tokens.' %len(word_index))\n",
    "\n",
    "data = pad_sequences(sequences, maxlen=maxlen)\n",
    "\n",
    "labels = np.asarray(labels)\n",
    "print('shape of data tensor: ', data.shape)\n",
    "print('shape of label tensor: ', labels.shape)\n",
    "\n",
    "indices = np.arange(data.shape[0])\n",
    "np.random.shuffle(indices)\n",
    "data = data[indices]\n",
    "labels = labels[indices]\n",
    "\n",
    "x_train = data[:training_samples]\n",
    "y_train = labels[:training_samples]\n",
    "x_val = data[training_samples: training_samples + validation_samples]\n",
    "y_val = labels[training_samples: training_samples + validation_samples]"
   ]
  },
  {
   "cell_type": "code",
   "execution_count": 36,
   "metadata": {},
   "outputs": [
    {
     "name": "stdout",
     "output_type": "stream",
     "text": [
      "Found 400000 word vector.\n"
     ]
    }
   ],
   "source": [
    "glove_embeddings_file = os.getcwd() + \"\\\\Input\\\\glove.6B.100d.txt\"\n",
    "embeddings_index = {}\n",
    "fileCursor = open(glove_embeddings_file, encoding=\"utf8\")\n",
    "for line in fileCursor: \n",
    "    values = line.split()\n",
    "    word = values[0]\n",
    "    coefs = np.asarray(values[1:], dtype='float32')\n",
    "    embeddings_index[word] = coefs \n",
    "fileCursor.close()\n",
    "\n",
    "print('Found %s word vector.' %len(embeddings_index))"
   ]
  },
  {
   "cell_type": "code",
   "execution_count": 48,
   "metadata": {},
   "outputs": [],
   "source": [
    "embedding_dim = 100 \n",
    "embedding_matrix = np.zeros((max_words, embedding_dim))\n",
    "for word, i in word_index.items():\n",
    "    if i < max_words:\n",
    "        embedding_vector = embeddings_index.get(word)\n",
    "        if embedding_vector is not None: \n",
    "            embedding_matrix[i] = embedding_vector "
   ]
  },
  {
   "cell_type": "code",
   "execution_count": 49,
   "metadata": {},
   "outputs": [
    {
     "name": "stdout",
     "output_type": "stream",
     "text": [
      "Model: \"sequential_5\"\n",
      "_________________________________________________________________\n",
      "Layer (type)                 Output Shape              Param #   \n",
      "=================================================================\n",
      "embedding_4 (Embedding)      (None, 100, 100)          1000000   \n",
      "_________________________________________________________________\n",
      "flatten_4 (Flatten)          (None, 10000)             0         \n",
      "_________________________________________________________________\n",
      "dense_5 (Dense)              (None, 32)                320032    \n",
      "_________________________________________________________________\n",
      "dense_6 (Dense)              (None, 1)                 33        \n",
      "=================================================================\n",
      "Total params: 1,320,065\n",
      "Trainable params: 1,320,065\n",
      "Non-trainable params: 0\n",
      "_________________________________________________________________\n"
     ]
    }
   ],
   "source": [
    "model = Sequential()\n",
    "model.add(Embedding(max_words, embedding_dim, input_length=maxlen))\n",
    "model.add(Flatten())\n",
    "model.add(Dense(32, activation='relu'))\n",
    "model.add(Dense(1, activation='sigmoid'))\n",
    "model.summary()"
   ]
  },
  {
   "cell_type": "code",
   "execution_count": 50,
   "metadata": {},
   "outputs": [
    {
     "name": "stdout",
     "output_type": "stream",
     "text": [
      "Train on 200 samples, validate on 2000 samples\n",
      "Epoch 1/10\n",
      "200/200 [==============================] - 0s 2ms/step - loss: 0.6574 - acc: 0.6000 - val_loss: 0.6265 - val_acc: 0.7045\n",
      "Epoch 2/10\n",
      "200/200 [==============================] - 0s 778us/step - loss: 0.5412 - acc: 0.7600 - val_loss: 0.6404 - val_acc: 0.6700\n",
      "Epoch 3/10\n",
      "200/200 [==============================] - 0s 753us/step - loss: 0.4165 - acc: 0.8500 - val_loss: 0.5659 - val_acc: 0.7070\n",
      "Epoch 4/10\n",
      "200/200 [==============================] - 0s 778us/step - loss: 0.3080 - acc: 0.9450 - val_loss: 0.5705 - val_acc: 0.7285\n",
      "Epoch 5/10\n",
      "200/200 [==============================] - 0s 773us/step - loss: 0.2053 - acc: 0.9650 - val_loss: 0.5678 - val_acc: 0.7330\n",
      "Epoch 6/10\n",
      "200/200 [==============================] - 0s 728us/step - loss: 0.1318 - acc: 0.9700 - val_loss: 0.7115 - val_acc: 0.6700\n",
      "Epoch 7/10\n",
      "200/200 [==============================] - 0s 698us/step - loss: 0.1086 - acc: 0.9700 - val_loss: 0.5545 - val_acc: 0.7235\n",
      "Epoch 8/10\n",
      "200/200 [==============================] - 0s 813us/step - loss: 0.0558 - acc: 0.9950 - val_loss: 0.7111 - val_acc: 0.6180\n",
      "Epoch 9/10\n",
      "200/200 [==============================] - 0s 778us/step - loss: 0.0433 - acc: 1.0000 - val_loss: 0.5698 - val_acc: 0.7090\n",
      "Epoch 10/10\n",
      "200/200 [==============================] - 0s 783us/step - loss: 0.0233 - acc: 1.0000 - val_loss: 0.5495 - val_acc: 0.7255\n"
     ]
    }
   ],
   "source": [
    "# The Neural Networks code with the preloaded embeddings take the pretrained weights, which are already \n",
    "# loaded into embedding_matrix\n",
    "# model.layers[0].set_weights([embedding_matrix]) # Uncomment these lines to use the pretrained embeddings Neural weights  \n",
    "# model.layers[0].trainable = False  # Uncomment this line to compute the neural weights \n",
    "\n",
    "model.compile(optimizer='rmsprop', \n",
    "             loss='binary_crossentropy', \n",
    "             metrics=['acc'])\n",
    "history = model.fit(x_train, y_train, \n",
    "                   epochs=10, \n",
    "                   batch_size=32, \n",
    "                   validation_data=(x_val, y_val))\n",
    "model.save_weights('pre_trained_model.h5')"
   ]
  },
  {
   "cell_type": "code",
   "execution_count": 51,
   "metadata": {},
   "outputs": [
    {
     "data": {
      "image/png": "[encoded data removed]",
      "text/plain": [
       "<Figure size 432x288 with 1 Axes>"
      ]
     },
     "metadata": {
      "needs_background": "light"
     },
     "output_type": "display_data"
    },
    {
     "data": {
      "image/png": "[encoded data removed]",
      "text/plain": [
       "<Figure size 1440x720 with 1 Axes>"
      ]
     },
     "metadata": {
      "needs_background": "light"
     },
     "output_type": "display_data"
    }
   ],
   "source": [
    "import matplotlib.pyplot as plt \n",
    "\n",
    "acc = history.history['acc']\n",
    "val_acc = history.history['val_acc']\n",
    "loss = history.history['loss']\n",
    "val_loss = history.history['val_loss']\n",
    "\n",
    "epochs = range(1, len(acc) + 1)\n",
    "\n",
    "plt.plot(epochs, acc, 'bo', label='Training acc')\n",
    "plt.plot(epochs, val_acc, 'b', label='Validation acc')\n",
    "plt.title('Training and Validation accuracy')\n",
    "plt.legend()\n",
    "\n",
    "plt.figure(figsize=(20, 10))\n",
    "\n",
    "plt.plot(epochs, loss, 'bo', label='Training loss')\n",
    "plt.plot(epochs, val_loss, 'b', label='Validation loss')\n",
    "plt.title('Training and Validation loss')\n",
    "plt.legend()\n",
    "\n",
    "plt.show()"
   ]
  }
 ],
 "metadata": {
  "kernelspec": {
   "display_name": "Python 3",
   "language": "python",
   "name": "python3"
  },
  "language_info": {
   "codemirror_mode": {
    "name": "ipython",
    "version": 3
   },
   "file_extension": ".py",
   "mimetype": "text/x-python",
   "name": "python",
   "nbconvert_exporter": "python",
   "pygments_lexer": "ipython3",
   "version": "3.5.0rc4"
  }
 },
 "nbformat": 4,
 "nbformat_minor": 2
}
